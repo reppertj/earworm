{
 "cells": [
  {
   "cell_type": "code",
   "execution_count": 1,
   "metadata": {},
   "outputs": [],
   "source": [
    "import pandas as pd\n",
    "import boto3 as aws\n",
    "from botocore.exceptions import ClientError\n",
    "from pathos.pools import ProcessPool\n",
    "from toolz.functoolz import compose_left\n",
    "import re\n",
    "import os"
   ]
  },
  {
   "cell_type": "code",
   "execution_count": 2,
   "metadata": {},
   "outputs": [],
   "source": [
    "FMA_METADATA_PATH = '/Volumes/LittleJim/Datasets/fma_metadata/raw_tracks.csv'\n",
    "FMA_DATA_PATH = '/Volumes/LittleJim/Datasets/fma_large/'\n",
    "AWS_PROFILE = \"music-full-access\"\n",
    "S3_BUCKET_NAME = 'ali-embedding-data'\n",
    "S3_FOLDER = 'fma-previews'"
   ]
  },
  {
   "cell_type": "code",
   "execution_count": 3,
   "metadata": {},
   "outputs": [],
   "source": [
    "def get_license_types(license_url):\n",
    "    if not isinstance(license_url, str):\n",
    "        return tuple()\n",
    "    pattern = re.compile(r'\\.org\\/l\\/([a-z\\-]*)\\/')\n",
    "    match = pattern.search(license_url)\n",
    "    if match:\n",
    "        return tuple(match.groups()[0].split('-'))\n",
    "    else:\n",
    "        pattern = re.compile(r'zero')\n",
    "        match = pattern.search(license_url)\n",
    "        if match:\n",
    "            return ('zero',)\n",
    "        else:\n",
    "            return tuple()"
   ]
  },
  {
   "cell_type": "code",
   "execution_count": 4,
   "metadata": {},
   "outputs": [],
   "source": [
    "def get_track_info(csv_path):\n",
    "    columns = ['track_id',\n",
    "               'album_title',\n",
    "               'artist_name',\n",
    "               'track_url',\n",
    "               'track_listens',\n",
    "               'license_image_file',\n",
    "               'track_title',\n",
    "               'license_parent_id',\n",
    "               'track_genres']\n",
    "    df = pd.read_csv(csv_path)\n",
    "    df = df[columns]\n",
    "    df['licenses'] = df.license_image_file.map(get_license_types)  # Filter out non-commercial licenses\n",
    "    df = df[~(df.licenses.map(lambda li: 'nc' in li or 'nd' in li or len(li) == 0))]\n",
    "    return df"
   ]
  },
  {
   "cell_type": "code",
   "execution_count": 5,
   "metadata": {},
   "outputs": [],
   "source": [
    "md = get_track_info(FMA_METADATA_PATH)"
   ]
  },
  {
   "cell_type": "code",
   "execution_count": 6,
   "metadata": {},
   "outputs": [],
   "source": [
    "s3 = aws.Session(profile_name=AWS_PROFILE).client('s3')"
   ]
  },
  {
   "cell_type": "code",
   "execution_count": 7,
   "metadata": {},
   "outputs": [],
   "source": [
    "def locate_path(track_id):\n",
    "    folder = str(track_id // 1000).zfill(3)\n",
    "    file = f\"{str(track_id).zfill(6)}.mp3\"\n",
    "    path = os.path.join(FMA_DATA_PATH, folder, file)\n",
    "    if os.path.exists(path):\n",
    "        return path\n",
    "    else:\n",
    "        return None"
   ]
  },
  {
   "cell_type": "code",
   "execution_count": 8,
   "metadata": {},
   "outputs": [],
   "source": [
    "def upload_file(file_name, bucket, object_name):\n",
    "    try:\n",
    "        s3.upload_file(file_name, bucket, object_name)\n",
    "    except ClientError as e:\n",
    "        print(e)\n",
    "        return False\n",
    "    return True"
   ]
  },
  {
   "cell_type": "code",
   "execution_count": 9,
   "metadata": {},
   "outputs": [],
   "source": [
    "def track_id_to_object(track_id):\n",
    "    return f\"{S3_FOLDER}/{track_id}FMA.mp3\""
   ]
  },
  {
   "cell_type": "code",
   "execution_count": 10,
   "metadata": {},
   "outputs": [],
   "source": [
    "def upload_mp3(track_id):\n",
    "    path = locate_path(track_id)\n",
    "    if path is not None:\n",
    "        object_name = track_id_to_object(track_id)\n",
    "        result = upload_file(path, S3_BUCKET_NAME, object_name)\n",
    "        return track_id\n",
    "    return None"
   ]
  },
  {
   "cell_type": "code",
   "execution_count": 11,
   "metadata": {},
   "outputs": [],
   "source": [
    "def get_all_track_ids(id_series):\n",
    "    for val in id_series:\n",
    "        yield val"
   ]
  },
  {
   "cell_type": "code",
   "execution_count": 12,
   "metadata": {},
   "outputs": [],
   "source": [
    "with ProcessPool(nodes=4) as P:\n",
    "    gtr = get_all_track_ids(md.track_id)\n",
    "    results = P.uimap(upload_mp3, gtr)"
   ]
  },
  {
   "cell_type": "code",
   "execution_count": 13,
   "metadata": {},
   "outputs": [],
   "source": [
    "results = [r for r in results if r is not None]\n",
    "results_series = pd.Series(results, name='track_id')\n",
    "results_series.to_csv('uploaded_FMA_track_ids.csv')\n",
    "uploaded_md = md.merge(results_series)\n",
    "uploaded_md.to_csv('uploaded_FMA_metadata.csv')"
   ]
  }
 ],
 "metadata": {
  "kernelspec": {
   "display_name": "sb",
   "language": "python",
   "name": "sb"
  },
  "language_info": {
   "codemirror_mode": {
    "name": "ipython",
    "version": 3
   },
   "file_extension": ".py",
   "mimetype": "text/x-python",
   "name": "python",
   "nbconvert_exporter": "python",
   "pygments_lexer": "ipython3",
   "version": "3.8.3"
  }
 },
 "nbformat": 4,
 "nbformat_minor": 4
}
